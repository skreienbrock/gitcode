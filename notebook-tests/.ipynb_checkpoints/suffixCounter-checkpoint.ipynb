{
 "cells": [
  {
   "cell_type": "markdown",
   "metadata": {},
   "source": [
    "### Suffix Counter ###"
   ]
  },
  {
   "cell_type": "code",
   "execution_count": 1,
   "metadata": {},
   "outputs": [],
   "source": [
    "import os\n",
    "import os.path as op\n",
    "# regex\n",
    "# import re\n",
    "# args\n",
    "import sys\n",
    "\n",
    "### STATIC VARS\n",
    "myPFolder='/home'"
   ]
  },
  {
   "cell_type": "code",
   "execution_count": 2,
   "metadata": {},
   "outputs": [],
   "source": [
    "try: \n",
    "    args=sys.argv\n",
    "    if op.isdir(args[1]):\n",
    "        maindir=args[1]\n",
    "    else:\n",
    "        # fallback\n",
    "        maindir=myPFolder\n",
    "except IndexError:\n",
    "        maindir=myPFolder"
   ]
  },
  {
   "cell_type": "code",
   "execution_count": 3,
   "metadata": {},
   "outputs": [],
   "source": [
    "# DEBUG print\n",
    "# maindir"
   ]
  },
  {
   "cell_type": "code",
   "execution_count": 4,
   "metadata": {},
   "outputs": [],
   "source": [
    "endings=[]\n",
    "fCnt=0\n",
    "\n",
    "for directory,sfolder,files in os.walk(maindir):\n",
    "    # DEBUG print directories\n",
    "    #print('\\033[1;31m' + directory + '\\033[0m')\n",
    "    \n",
    "    # DEBUG print subdirectories\n",
    "    #for s in sfolder:\n",
    "    #     print('\\033[1;32m' + s + '\\033[0m')\n",
    "    \n",
    "    # but interesting are the files:\n",
    "    for f in files:\n",
    "        # dot in files ?\n",
    "        fCnt = fCnt + 1\n",
    "        if '.' in f:\n",
    "            fIndex=(len(f.split('.')))\n",
    "            endings.append(f.split('.')[fIndex-1].lower())"
   ]
  },
  {
   "cell_type": "code",
   "execution_count": 5,
   "metadata": {},
   "outputs": [
    {
     "name": "stdout",
     "output_type": "stream",
     "text": [
      "In 10 files, 10 had suffixes.\n"
     ]
    }
   ],
   "source": [
    "print(\"In %d files, %d had suffixes.\" % (fCnt,len(endings)))"
   ]
  },
  {
   "cell_type": "code",
   "execution_count": null,
   "metadata": {},
   "outputs": [],
   "source": []
  },
  {
   "cell_type": "code",
   "execution_count": 6,
   "metadata": {},
   "outputs": [
    {
     "data": {
      "text/plain": [
       "10"
      ]
     },
     "execution_count": 6,
     "metadata": {},
     "output_type": "execute_result"
    }
   ],
   "source": [
    "# all files with endings:\n",
    "len(endings)"
   ]
  },
  {
   "cell_type": "code",
   "execution_count": 9,
   "metadata": {},
   "outputs": [
    {
     "data": {
      "text/plain": [
       "{'bash',\n",
       " 'bash_history',\n",
       " 'bash_logout',\n",
       " 'bashrc',\n",
       " 'desktop',\n",
       " 'iceauthority',\n",
       " 'pam_environment',\n",
       " 'png',\n",
       " 'profile',\n",
       " 'sudo_as_admin_successful'}"
      ]
     },
     "execution_count": 9,
     "metadata": {},
     "output_type": "execute_result"
    }
   ],
   "source": [
    "# get all endings in folder\n",
    "endset=set(endings)\n",
    "# all endings/suffixes\n",
    "len(endset)\n",
    "endset"
   ]
  },
  {
   "cell_type": "code",
   "execution_count": 10,
   "metadata": {},
   "outputs": [],
   "source": [
    "# DEBUG Print\n",
    "# endings.count('json')"
   ]
  },
  {
   "cell_type": "code",
   "execution_count": 13,
   "metadata": {},
   "outputs": [],
   "source": [
    "suffixOccurence={}\n",
    "for suffix in endset:\n",
    "    if endings.count(suffix) >= 1:\n",
    "        suffixOccurence[suffix]=endings.count(suffix)"
   ]
  },
  {
   "cell_type": "code",
   "execution_count": 14,
   "metadata": {},
   "outputs": [
    {
     "data": {
      "text/plain": [
       "{'bash': 1,\n",
       " 'bash_history': 1,\n",
       " 'bash_logout': 1,\n",
       " 'bashrc': 1,\n",
       " 'desktop': 1,\n",
       " 'iceauthority': 1,\n",
       " 'pam_environment': 1,\n",
       " 'png': 1,\n",
       " 'profile': 1,\n",
       " 'sudo_as_admin_successful': 1}"
      ]
     },
     "execution_count": 14,
     "metadata": {},
     "output_type": "execute_result"
    }
   ],
   "source": [
    "suffixOccurence"
   ]
  },
  {
   "cell_type": "code",
   "execution_count": 15,
   "metadata": {},
   "outputs": [],
   "source": [
    "import operator\n",
    "sorted_sO = sorted(suffixOccurence.items(), key=operator.itemgetter(1),reverse=True)\n",
    "\n",
    "# sorted_sO"
   ]
  },
  {
   "cell_type": "code",
   "execution_count": 16,
   "metadata": {},
   "outputs": [],
   "source": [
    "#for s in suffixOccurence:\n",
    "#    if len(s) > 15:\n",
    "#        print(\"%s\\t%d\" % (s,suffixOccurence[s]))\n",
    "#    elif len(s) > 7:\n",
    "#        print(\"%s\\t\\t%d\" % (s,suffixOccurence[s]))\n",
    "#    else:\n",
    "#        print(\"%s\\t\\t\\t%d\" % (s,suffixOccurence[s]))"
   ]
  },
  {
   "cell_type": "code",
   "execution_count": 17,
   "metadata": {},
   "outputs": [
    {
     "name": "stdout",
     "output_type": "stream",
     "text": [
      "bashrc\t\t\t1\n",
      "bash\t\t\t1\n",
      "iceauthority\t\t1\n",
      "bash_logout\t\t1\n",
      "sudo_as_admin_successful\t1\n",
      "desktop\t\t\t1\n",
      "pam_environment\t\t1\n",
      "png\t\t\t1\n",
      "profile\t\t\t1\n",
      "bash_history\t\t1\n"
     ]
    }
   ],
   "source": [
    "for s in sorted_sO:\n",
    "    if len(s[0]) > 15:\n",
    "        print(\"%s\\t%d\" % (s[0],s[1]))\n",
    "    elif len(s[0]) > 7:\n",
    "        print(\"%s\\t\\t%d\" % (s[0],s[1]))\n",
    "    else:\n",
    "        print(\"%s\\t\\t\\t%d\" % (s[0],s[1]))"
   ]
  },
  {
   "cell_type": "code",
   "execution_count": null,
   "metadata": {},
   "outputs": [],
   "source": []
  },
  {
   "cell_type": "code",
   "execution_count": null,
   "metadata": {},
   "outputs": [],
   "source": []
  },
  {
   "cell_type": "code",
   "execution_count": null,
   "metadata": {},
   "outputs": [],
   "source": []
  }
 ],
 "metadata": {
  "kernelspec": {
   "display_name": "Python 3",
   "language": "python",
   "name": "python3"
  },
  "language_info": {
   "codemirror_mode": {
    "name": "ipython",
    "version": 3
   },
   "file_extension": ".py",
   "mimetype": "text/x-python",
   "name": "python",
   "nbconvert_exporter": "python",
   "pygments_lexer": "ipython3",
   "version": "3.6.4"
  }
 },
 "nbformat": 4,
 "nbformat_minor": 2
}
